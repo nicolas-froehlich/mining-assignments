{
 "cells": [
  {
   "cell_type": "markdown",
   "metadata": {},
   "source": [
    "Data Mining: Basic Concepts - WS'22/23\n",
    "---------------\n",
    "``` \n",
    "> University of Konstanz \n",
    "> Department of Computer and Information Science\n",
    "> Prof. Dr. Daniel Keim, Eren Cakmak, Raphael Buchmüller, Udo Schlegel, Yannick Metz\n",
    "```\n",
    "__Organize in teams of 2 people, return the exercise by Sun, Nov 6th, 2022 (11:59 PM) using ILIAS__"
   ]
  },
  {
   "cell_type": "markdown",
   "metadata": {},
   "source": [
    "---"
   ]
  },
  {
   "cell_type": "markdown",
   "metadata": {},
   "source": [
    "Assignment 01\n",
    "---------------\n",
    "- ___Please put your names and student IDs here___:\n",
    "    - _Lennart Gießing_, _921963_\n",
    "    - _Nicolas Fröhlich_, _912433_"
   ]
  },
  {
   "cell_type": "markdown",
   "metadata": {},
   "source": [
    "---"
   ]
  },
  {
   "cell_type": "markdown",
   "metadata": {},
   "source": [
    "#### Exercise 0: Info\n",
    "Please complete all the exercises below. Please hand in the assignment as a Jupyter notebook (.ipynb) file. The solution should include your code, answers to exercise questions, and plots of results. Don't forget to incorporate answers to questions as markdown cells that ask for natural language responses, i.e., in English, not code!\n",
    "\n",
    "The assignments are in Python. You are not required to do all your coding in Jupyter notebooks, so please feel free to use your favorite editor or IDE. But when you are done, remember to put your code into a notebook (.ipynb) for your submission.\n",
    "\n",
    "__More information:__\n",
    "* Just one of the team members needs to upload the assignment.\n",
    "* Please write full names on solutions (first name + surname) as well as your matriculation number\n",
    "* Please name the files using your name. (e.g. „udo_schlegel_yannick_metz.ipynb“)\n",
    "* No special characters in the file name (except \"_\")\n",
    "* Do not use any Python libraries to solve the tasks in the assignment sheet. We will clearly state it in the question text when you need to use a library in the future. Feel free to use the Python packages `numpy`, `pandas`, `matplotlib` whenever you want."
   ]
  },
  {
   "cell_type": "markdown",
   "metadata": {},
   "source": [
    "---"
   ]
  },
  {
   "cell_type": "markdown",
   "metadata": {},
   "source": [
    "#### Exercise 1: Working with matrices\n",
    "The Python package ``numpy``allows you to work with vectors and matrices. Install the package and use the following command to create a ``numpy`` array and answer the following questions. Write down the commands you need to solve each tasks in a separate code cell. The commands have to work for different matrices as well. "
   ]
  },
  {
   "cell_type": "markdown",
   "metadata": {},
   "source": [
    "##### __(a) Create the following 3x3 matrix__\n",
    "\n",
    "$$\\begin{bmatrix} 1 & 2 & 3 \\\\ 4 & 5 & 6 \\\\ 7 & 8 & 9 \\end{bmatrix}$$"
   ]
  },
  {
   "cell_type": "code",
   "execution_count": null,
   "metadata": {},
   "outputs": [],
   "source": [
    "import numpy as np\n",
    "\n",
    "my_matrix = np.array([[1,2,3], [4,5,6], [7,8,9]])"
   ]
  },
  {
   "cell_type": "code",
   "execution_count": null,
   "metadata": {},
   "outputs": [],
   "source": [
    "my_matrix"
   ]
  },
  {
   "cell_type": "markdown",
   "metadata": {},
   "source": [
    "##### __(b) Retrieve and print the second element of the third row__"
   ]
  },
  {
   "cell_type": "code",
   "execution_count": null,
   "metadata": {},
   "outputs": [],
   "source": [
    "print(my_matrix[2,1])"
   ]
  },
  {
   "cell_type": "markdown",
   "metadata": {},
   "source": [
    "##### __(c) Retrieve and print the first row__"
   ]
  },
  {
   "cell_type": "code",
   "execution_count": null,
   "metadata": {},
   "outputs": [],
   "source": [
    "print(my_matrix[0])"
   ]
  },
  {
   "cell_type": "markdown",
   "metadata": {},
   "source": [
    "##### __(d) Retrieve and print the whole second column__"
   ]
  },
  {
   "cell_type": "code",
   "execution_count": null,
   "metadata": {},
   "outputs": [],
   "source": [
    "print(my_matrix[:,1])"
   ]
  },
  {
   "cell_type": "markdown",
   "metadata": {},
   "source": [
    "##### __(e) Retrieve and print all rows but the first__"
   ]
  },
  {
   "cell_type": "code",
   "execution_count": null,
   "metadata": {},
   "outputs": [],
   "source": [
    "print(my_matrix[1:])"
   ]
  },
  {
   "cell_type": "markdown",
   "metadata": {},
   "source": [
    "##### __(f) Retrieve the diagonal of the matrix__"
   ]
  },
  {
   "cell_type": "code",
   "execution_count": null,
   "metadata": {},
   "outputs": [],
   "source": [
    "for element in range(len(my_matrix)):\n",
    "    print(my_matrix[element,element])\n",
    "    \n",
    "# alternative ways\n",
    "# [my_matrix[i,i] for i in len(my_matrix)]\n",
    "# np.diag(my_matrix)"
   ]
  },
  {
   "cell_type": "markdown",
   "metadata": {},
   "source": [
    "##### __(g) Retrieve the sum of each rows. The result should therefore be ``[6, 15, 24]``__"
   ]
  },
  {
   "cell_type": "code",
   "execution_count": null,
   "metadata": {},
   "outputs": [],
   "source": [
    "[sum(my_matrix[i]) for i in range(len(my_matrix))]"
   ]
  },
  {
   "cell_type": "markdown",
   "metadata": {},
   "source": [
    "##### __(h) Multiply all elements of the matrix with ``2`` and afterwards add ``2`` to each element. Then print all elements bigger than ``>15``__"
   ]
  },
  {
   "cell_type": "code",
   "execution_count": null,
   "metadata": {},
   "outputs": [],
   "source": [
    "my_matrix = (my_matrix*2)+2\n",
    "print(my_matrix[my_matrix>15])"
   ]
  },
  {
   "cell_type": "markdown",
   "metadata": {},
   "source": [
    "---"
   ]
  },
  {
   "cell_type": "markdown",
   "metadata": {},
   "source": [
    "#### Exercise 2: Working with matplotlib and images\n",
    "The package ``matplotlib`` allows to load and process images. "
   ]
  },
  {
   "cell_type": "code",
   "execution_count": null,
   "metadata": {},
   "outputs": [],
   "source": [
    "import numpy as np\n",
    "from matplotlib.image import imread\n",
    "import matplotlib.pyplot as plt"
   ]
  },
  {
   "cell_type": "code",
   "execution_count": null,
   "metadata": {},
   "outputs": [],
   "source": [
    "image = imread('uni-konstanz.jpg')\n",
    "plt.imshow(image)"
   ]
  },
  {
   "cell_type": "markdown",
   "metadata": {},
   "source": [
    "##### __(a) Select and displays the following section of the image - all pixels between 0 and 300 pixels on the x-axis and all pixels between 100 and 400 pixels on the y-axis__"
   ]
  },
  {
   "cell_type": "code",
   "execution_count": null,
   "metadata": {},
   "outputs": [],
   "source": [
    "image_small = image[100:400, 0:300]\n",
    "plt.imshow(image_small)"
   ]
  },
  {
   "cell_type": "markdown",
   "metadata": {},
   "source": [
    "##### __(b) Change the brigthness of the image by multiplying it with ``0.001``__"
   ]
  },
  {
   "cell_type": "code",
   "execution_count": null,
   "metadata": {},
   "outputs": [],
   "source": [
    "image = image*0.001\n",
    "plt.imshow(image)"
   ]
  },
  {
   "cell_type": "markdown",
   "metadata": {},
   "source": [
    "---"
   ]
  },
  {
   "cell_type": "markdown",
   "metadata": {},
   "source": [
    "#### Exercise 3: Working with dataframes \n",
    "The Python package ``pandas``allows to work with data as a 2D heterogeneous tabular data structure"
   ]
  },
  {
   "cell_type": "markdown",
   "metadata": {},
   "source": [
    "##### __(a) Import the package and create a ``pandas`` dataframe from the following ``numpy`` matrix. Name the columns a, b, c, d, e__"
   ]
  },
  {
   "cell_type": "code",
   "execution_count": null,
   "metadata": {},
   "outputs": [],
   "source": [
    "import pandas as pd"
   ]
  },
  {
   "cell_type": "code",
   "execution_count": null,
   "metadata": {},
   "outputs": [],
   "source": [
    "# help(pd.DataFrame)"
   ]
  },
  {
   "cell_type": "code",
   "execution_count": null,
   "metadata": {},
   "outputs": [],
   "source": [
    "my_matrix = np.array([[1,2,3,4,5], [5,7,8,9,10], [11,12,13,14,15], [16,17,18,19,20]])\n",
    "my_matrix"
   ]
  },
  {
   "cell_type": "code",
   "execution_count": null,
   "metadata": {},
   "outputs": [],
   "source": [
    "my_df = pd.DataFrame(my_matrix, columns=[\"a\", \"b\", \"c\", \"d\", \"e\"])\n",
    "my_df"
   ]
  },
  {
   "cell_type": "markdown",
   "metadata": {},
   "source": [
    "##### __(b) Retrieve and print the column ``d``__"
   ]
  },
  {
   "cell_type": "code",
   "execution_count": null,
   "metadata": {},
   "outputs": [],
   "source": [
    "print(my_df[\"d\"])"
   ]
  },
  {
   "cell_type": "markdown",
   "metadata": {},
   "source": [
    "##### __(c) Retrieve and print the whole third row__"
   ]
  },
  {
   "cell_type": "code",
   "execution_count": null,
   "metadata": {},
   "outputs": [],
   "source": [
    "print(my_df[2:3])"
   ]
  },
  {
   "cell_type": "markdown",
   "metadata": {},
   "source": [
    "##### __(d) Add ``5`` to each element of the column ``a`` and then print each element of column ``a`` that is bigger ``>12``__"
   ]
  },
  {
   "cell_type": "code",
   "execution_count": null,
   "metadata": {},
   "outputs": [],
   "source": [
    "my_df[\"a\"] = my_df[\"a\"]+5\n",
    "print(my_df[\"a\"][my_df[\"a\"]>12])"
   ]
  },
  {
   "cell_type": "markdown",
   "metadata": {},
   "source": [
    "##### __(e) Remove the column ``b`` from the dataframe__"
   ]
  },
  {
   "cell_type": "code",
   "execution_count": null,
   "metadata": {},
   "outputs": [],
   "source": [
    "my_df = my_df.drop(columns=[\"b\"])\n",
    "my_df"
   ]
  },
  {
   "cell_type": "markdown",
   "metadata": {},
   "source": [
    "##### __(f) Iterate through the dataframe and print each row__ _(Hint: use the iterrows() method)_"
   ]
  },
  {
   "cell_type": "code",
   "execution_count": null,
   "metadata": {},
   "outputs": [],
   "source": [
    "for i in my_df.iterrows():\n",
    "    print(i)"
   ]
  },
  {
   "cell_type": "markdown",
   "metadata": {},
   "source": [
    "##### __(g) Print the shape of the dataframe (number of rows & columns)__"
   ]
  },
  {
   "cell_type": "code",
   "execution_count": null,
   "metadata": {},
   "outputs": [],
   "source": [
    "print(my_df.shape)"
   ]
  },
  {
   "cell_type": "markdown",
   "metadata": {},
   "source": [
    "---"
   ]
  },
  {
   "cell_type": "markdown",
   "metadata": {},
   "source": [
    "#### Exercise 4: Dataframes\n",
    "In the following, we will analyze UFO sightings over the last century."
   ]
  },
  {
   "cell_type": "code",
   "execution_count": null,
   "metadata": {},
   "outputs": [],
   "source": [
    "import pandas as pd\n",
    "\n",
    "df = pd.read_csv('ufo.csv')\n",
    "df.head()"
   ]
  },
  {
   "cell_type": "markdown",
   "metadata": {},
   "source": [
    "##### __(a) Print the total number of UFO sightings.__"
   ]
  },
  {
   "cell_type": "code",
   "execution_count": null,
   "metadata": {},
   "outputs": [],
   "source": [
    "print(len(df))"
   ]
  },
  {
   "cell_type": "markdown",
   "metadata": {},
   "source": [
    "##### __(b) Print all sightings of UFOs in Berlin, Germany where the shape is not unknown.__"
   ]
  },
  {
   "cell_type": "code",
   "execution_count": null,
   "metadata": {},
   "outputs": [],
   "source": [
    "# print(df[\"shape\"].unique())\n",
    "# print(df[\"country\"].unique())\n",
    "# print(df[\"city\"].unique())\n",
    "df[(df[\"shape\"] != \"unknown\") & (df[\"country\"] == \"de\") & (df[\"city\"] == \"berlin (germany)\")]"
   ]
  },
  {
   "cell_type": "markdown",
   "metadata": {},
   "source": [
    "##### __(c) Print the total number of sightings per country and the total number of sightings for each shape.__"
   ]
  },
  {
   "cell_type": "code",
   "execution_count": null,
   "metadata": {},
   "outputs": [],
   "source": [
    "# print(df.groupby([\"country\"]))\n",
    "df.country.value_counts()"
   ]
  },
  {
   "cell_type": "markdown",
   "metadata": {},
   "source": [
    "##### __(d) By using the results from (c) check how often the most sighted shape was seen in the country with the most sightings.__"
   ]
  },
  {
   "cell_type": "code",
   "execution_count": null,
   "metadata": {},
   "outputs": [],
   "source": [
    "df_us = df[df['country'] == 'us']\n",
    "df_us['shape'].value_counts()"
   ]
  },
  {
   "cell_type": "markdown",
   "metadata": {},
   "source": [
    "##### __(e) Print the mean and the median duration of UFO sightings in seconds.__ _(Hint: Find a reasonable way to deal with non-numeric values in the data)_"
   ]
  },
  {
   "cell_type": "code",
   "execution_count": null,
   "metadata": {},
   "outputs": [],
   "source": [
    "df = pd.read_csv('ufo.csv')\n",
    "\n",
    "# convert to string\n",
    "df['duration (seconds)'] = df['duration (seconds)'].astype(\"string\")\n",
    "# use regex to remove the '`' symbol that some people added to the number of seconds\n",
    "df['duration (seconds)'] = df['duration (seconds)'].str.replace(r'\\`', '')\n",
    "# convert to float\n",
    "df[\"duration (seconds)\"] = pd.to_numeric(df[\"duration (seconds)\"])\n",
    "# calculate & print mean and median\n",
    "print(f'The mean duration in seconds is {df[\"duration (seconds)\"].mean()} seconds.')\n",
    "print(f'The median duration in seconds is {df[\"duration (seconds)\"].median()} seconds.')\n",
    "\n",
    "# print(f'The maximum duration in seconds is {df[\"duration (seconds)\"].max()} seconds.')"
   ]
  },
  {
   "cell_type": "markdown",
   "metadata": {},
   "source": [
    "##### __Why is there such a big difference between the two values?__"
   ]
  },
  {
   "cell_type": "markdown",
   "metadata": {},
   "source": [
    "```\n",
    "The mean value is a lot higher than the median value because of extremely large outliers. For example, the highest value for 'duration (seconds)' is almost 10 million seconds. \n",
    "```"
   ]
  },
  {
   "cell_type": "markdown",
   "metadata": {},
   "source": [
    "---"
   ]
  },
  {
   "cell_type": "markdown",
   "metadata": {},
   "source": [
    "#### Exercise 5: NumPy and Pandas "
   ]
  },
  {
   "cell_type": "markdown",
   "metadata": {},
   "source": [
    "##### __(a) Explain the difference between a Python ``list`` and a ``numpy.array``.__"
   ]
  },
  {
   "cell_type": "markdown",
   "metadata": {},
   "source": [
    "A big difference is that numpy arrays **can** directly handle mathematical calculations, while lists **cannot**. Arrays furthermore are less memory-consuming and faster to work with.\n",
    "A list, on the other hand, is a lot more flexible in that it can store data of different types and also nested data of different sizes, both of which is not possible in a numpy array.\n",
    "\n",
    "source: \n",
    "https://python.plainenglish.io/python-list-vs-numpy-array-whats-the-difference-7308cd4b52f6"
   ]
  },
  {
   "cell_type": "markdown",
   "metadata": {},
   "source": [
    "##### __(b) Explain the difference between ``numpy.array`` and ``numpy.ndarray``.__"
   ]
  },
  {
   "cell_type": "markdown",
   "metadata": {},
   "source": [
    "\n",
    "numpy.ndarray is the **type** of the array object which is retured when calling the **method** numpy.array().\n",
    "\n",
    "source:\n",
    "https://www.planetofbits.com/python/difference-between-ndarray-and-array-in-numpy/"
   ]
  },
  {
   "cell_type": "markdown",
   "metadata": {},
   "source": [
    "##### __(c) Explain the differences between ``numpy.array``and ``pandas.DataFrame``__"
   ]
  },
  {
   "cell_type": "markdown",
   "metadata": {},
   "source": [
    "\n",
    "* Numpy arrays can be **multi-dimensional** whereas DataFrame can only be **two-dimensional**.\n",
    "* DataFrame can have objects of both different or similar data types, arrays can contain only similar types of objects or elements.\n",
    "* Elements in an array can be accessed using only integer positions whereas elements in a DataFrame can be accessed using both integer and index positions.\n",
    "\n",
    "|object|main use|\n",
    "|-|-|\n",
    "|DataFrame|data pre-processing|\n",
    "|Numpy array|complex scientific computation|\n",
    "\n",
    "\n",
    "source:\n",
    "https://www.askpython.com/python/pandas-dataframe-vs-numpy-arrays\n"
   ]
  },
  {
   "cell_type": "markdown",
   "metadata": {},
   "source": [
    "---"
   ]
  },
  {
   "cell_type": "markdown",
   "metadata": {
    "tags": []
   },
   "source": [
    "#### Exercise 6: Scatterplot Matrices\n",
    "In this exercise, you will load a dataset into a Python ``pandas.DataFrame`` and genreate a scatterplot matrix visualization. "
   ]
  },
  {
   "cell_type": "markdown",
   "metadata": {},
   "source": [
    "##### __(a) Load and print the dataset ``iris.csv``.__"
   ]
  },
  {
   "cell_type": "code",
   "execution_count": null,
   "metadata": {},
   "outputs": [],
   "source": [
    "df = pd.read_csv('iris.csv')\n",
    "print(df)"
   ]
  },
  {
   "cell_type": "markdown",
   "metadata": {},
   "source": [
    "##### __(b) When creating a scatterplot matrix the data has to be of a numeric data type. Thus, remove the column which data type is not suitable from the iris dataset.__"
   ]
  },
  {
   "cell_type": "code",
   "execution_count": null,
   "metadata": {},
   "outputs": [],
   "source": [
    "# df.info()\n",
    "df = df.drop(columns=[\"species\"])\n",
    "df.info()"
   ]
  },
  {
   "cell_type": "markdown",
   "metadata": {},
   "source": [
    "##### __(c) Generate a scatterplot matrix visualization. Use the package ``seaborn`` and the method ``seaborn.pairplot()``__ "
   ]
  },
  {
   "cell_type": "code",
   "execution_count": null,
   "metadata": {},
   "outputs": [],
   "source": [
    "import seaborn as sns\n",
    "sns.pairplot(df)"
   ]
  },
  {
   "cell_type": "markdown",
   "metadata": {},
   "source": [
    "##### __(d) Reload the ``iris`` data. Plot the scatterplot matrix and color the points using the ``species`` column.__ "
   ]
  },
  {
   "cell_type": "code",
   "execution_count": null,
   "metadata": {},
   "outputs": [],
   "source": [
    "df = pd.read_csv('iris.csv')\n",
    "sns.pairplot(df, hue='species')"
   ]
  },
  {
   "cell_type": "markdown",
   "metadata": {},
   "source": [
    "##### __(e) Using this visualization, describe at least one interesting characteristic of the ``iris`` dataset.__ \n",
    "\n",
    "_(Hint: Think about possible data mining tasks that you want to apply to the data.)_"
   ]
  },
  {
   "cell_type": "markdown",
   "metadata": {},
   "source": [
    "Using the scatterplots, one can see that there are more or less clearly visible clusters of data points, corresponding to three different species of iris. It seems like the different species have specific petal&sepal widths&lenghts.\n",
    "It could therefore be suitable to train a classification machine learning algorithm with it that predicts the species (label) of new iris flowers by taking their petal(&sepal) lenght and width (features)."
   ]
  }
 ],
 "metadata": {
  "kernelspec": {
   "display_name": "Python 3 (ipykernel)",
   "language": "python",
   "name": "python3"
  },
  "language_info": {
   "codemirror_mode": {
    "name": "ipython",
    "version": 3
   },
   "file_extension": ".py",
   "mimetype": "text/x-python",
   "name": "python",
   "nbconvert_exporter": "python",
   "pygments_lexer": "ipython3",
   "version": "3.9.12"
  }
 },
 "nbformat": 4,
 "nbformat_minor": 4
}
