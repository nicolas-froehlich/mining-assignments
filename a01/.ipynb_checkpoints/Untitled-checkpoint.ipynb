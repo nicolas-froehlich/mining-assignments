{
 "cells": [
  {
   "cell_type": "markdown",
   "id": "865c8d98-f281-4390-8936-201d293106ff",
   "metadata": {},
   "source": [
    "Exercise 3: Algorithms for Number Conversion (4 Points)\n",
    "In the lecture, we discussed an algorithm that converts integer numbers in decimal representation to binary representation. You may use any suitable data type as output as long as the resulting number is clearly identifiable.\n",
    "\n",
    "a) Write a corresponding algorithm decimal_int_to_octal() in Python to convert non-negative integer numbers in decimal representation to octal."
   ]
  },
  {
   "cell_type": "code",
   "execution_count": null,
   "id": "d25885ea-9940-49d3-8e90-0b93948e3e26",
   "metadata": {},
   "outputs": [],
   "source": [
    "def decimal_int_to_octal(integer):\n",
    "    # convert non-negative integer numbers in decimal representation to octal\n",
    "    \n",
    "    \n",
    "    \n",
    "    "
   ]
  },
  {
   "cell_type": "markdown",
   "id": "1ad1867b-d3d4-4a82-87b3-7d3f947d0421",
   "metadata": {},
   "source": [
    "b) Develop a more general algorithm decimal_to_octal() that also converts numbers that include decimal places from decimal representation to octal."
   ]
  },
  {
   "cell_type": "code",
   "execution_count": null,
   "id": "4ca40b61-4ab3-4730-9cc4-618395082b53",
   "metadata": {},
   "outputs": [],
   "source": [
    "\n",
    "\n",
    "\n"
   ]
  },
  {
   "cell_type": "markdown",
   "id": "862d03c5-652b-4b13-b4c3-2c169bce0433",
   "metadata": {},
   "source": [
    "Exercise 4: Count Bits (2 Points)\n",
    "Write a program that counts the number of (non-zero) bits in a nonnegative integer. Do not use strings but bitwise operations (hint: Use bitshifts and masking)."
   ]
  },
  {
   "cell_type": "code",
   "execution_count": null,
   "id": "856d4781-bfff-4c68-88ef-b386ce9b998c",
   "metadata": {},
   "outputs": [],
   "source": [
    "\n",
    "\n",
    "\n"
   ]
  },
  {
   "cell_type": "markdown",
   "id": "dfe0c157-9c93-48b7-9070-152e897c707a",
   "metadata": {},
   "source": [
    "Exercise 5: Bonus Exercise (2 Points)\n",
    "Write an algorithm decimal_int_to_octal_bitwise() in Python to to convert non negative integer numbers to octal using bitwise operations (hint: Use masking and shifting operations)."
   ]
  },
  {
   "cell_type": "code",
   "execution_count": null,
   "id": "de57c181-67b9-44de-81ad-0435c2b93825",
   "metadata": {},
   "outputs": [],
   "source": []
  },
  {
   "cell_type": "code",
   "execution_count": null,
   "id": "5a26022e-4485-48da-8cc4-f5ca335d47ba",
   "metadata": {},
   "outputs": [],
   "source": []
  }
 ],
 "metadata": {
  "kernelspec": {
   "display_name": "Python 3 (ipykernel)",
   "language": "python",
   "name": "python3"
  },
  "language_info": {
   "codemirror_mode": {
    "name": "ipython",
    "version": 3
   },
   "file_extension": ".py",
   "mimetype": "text/x-python",
   "name": "python",
   "nbconvert_exporter": "python",
   "pygments_lexer": "ipython3",
   "version": "3.9.12"
  }
 },
 "nbformat": 4,
 "nbformat_minor": 5
}
