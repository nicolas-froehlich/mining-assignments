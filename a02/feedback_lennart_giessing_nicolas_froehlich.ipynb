{
 "cells": [
  {
   "cell_type": "markdown",
   "metadata": {},
   "source": [
    "Data Mining: Basic Concepts - WS'22/23\n",
    "---------------\n",
    "``` \n",
    "> University of Konstanz \n",
    "> Department of Computer and Information Science\n",
    "> Prof. Dr. Daniel Keim, Eren Cakmak, Raphael Buchmüller, Udo Schlegel, Yannick Metz\n",
    "```\n",
    "__Organize in teams of 2 people, return the exercise by Sun, Nov 13th, 2022 (11:59 PM) using ILIAS__"
   ]
  },
  {
   "cell_type": "markdown",
   "metadata": {},
   "source": [
    "---"
   ]
  },
  {
   "cell_type": "markdown",
   "metadata": {},
   "source": [
    "Assignment 02 in Python\n",
    "---------------\n",
    "- ___Please put your names and student IDs here___:\n",
    "    - _Lennart Gießing_, _921963_\n",
    "    - _Nicolas Fröhlich_, _912433_"
   ]
  },
  {
   "cell_type": "markdown",
   "metadata": {},
   "source": [
    "---"
   ]
  },
  {
   "cell_type": "markdown",
   "metadata": {},
   "source": [
    "#### Exercise 1: Data Types\n",
    "Imagine you have the following dataset:\n",
    "\n",
    "| Date  \t| City   \t| Country  \t| Temperature | Wind\t|\n",
    "|------ \t|----------\t|-----------|-------------|---------|\n",
    "|11.10.2022 |Konstanz   | Germany   |  17°C       | Low     |\n",
    "|11.10.2022 |Chicago    | US        |  18°C       | Strong  |\n",
    "|13.10.2022 |Sydney     | Australia |  11°C       | Medium  |"
   ]
  },
  {
   "cell_type": "markdown",
   "metadata": {},
   "source": [
    "##### __(a) Describe for each column whether it contains nominal, ordinal or numerical data and explain why you made that decision__"
   ]
  },
  {
   "cell_type": "markdown",
   "metadata": {},
   "source": [
    "```\n",
    "Date: Ordinal/Numerical\n",
    "Date could be either ordinal or numerical. Ordinal because we can put it in an order. The 11.10 is before the 13.10. We can as well make calculations as in numerical values. But in this case we can not distinguish the exact difference between two events. The difference between 11.10.22 and 13.10.22 are two days. But we do not know when exactly something happened on one day. The distance between two events could be just little more than a day or nearly three days. Therefore Date could be both. That depends on the purpose of the data.\n",
    "\n",
    "City: Nominal \n",
    "Because it's supposed to distinguish between different places. But there is no way to put cities in an order, just based on their name. Maybe alphabetically, but again heavily depending on the usecase.\n",
    "\n",
    "Country: Nominal\n",
    "Because it supposed to distinguish between different places. But there is no way to put countries in an order, just based on their name.\n",
    "\n",
    "Temperature: Numerical\n",
    "You can put different temperatures in an order. And based on the numbers you can do the maths.\n",
    "\n",
    "Wind: Ordinal \n",
    "You can put the different strenght of wind in an order. But there is no way to see numerical differences between the different \"levels\". Therefore it is not numerical.\n",
    "```"
   ]
  },
  {
   "cell_type": "markdown",
   "metadata": {},
   "source": [
    "##### __(b) Give at least one mathematical operation that can be used on all three data types__"
   ]
  },
  {
   "cell_type": "markdown",
   "metadata": {},
   "source": [
    "```\n",
    "==   equal to\n",
    "\n",
    "!=   unequal to\n",
    "```"
   ]
  },
  {
   "cell_type": "markdown",
   "metadata": {},
   "source": [
    "---"
   ]
  },
  {
   "cell_type": "markdown",
   "metadata": {},
   "source": [
    "#### Exercise 2: Missing Values"
   ]
  },
  {
   "cell_type": "code",
   "execution_count": 1,
   "metadata": {},
   "outputs": [],
   "source": [
    "import pandas as pd\n",
    "import seaborn as sns\n",
    "import numpy as np\n",
    "import matplotlib.pyplot as plt"
   ]
  },
  {
   "cell_type": "code",
   "execution_count": 2,
   "metadata": {},
   "outputs": [
    {
     "data": {
      "text/html": [
       "<div>\n",
       "<style scoped>\n",
       "    .dataframe tbody tr th:only-of-type {\n",
       "        vertical-align: middle;\n",
       "    }\n",
       "\n",
       "    .dataframe tbody tr th {\n",
       "        vertical-align: top;\n",
       "    }\n",
       "\n",
       "    .dataframe thead th {\n",
       "        text-align: right;\n",
       "    }\n",
       "</style>\n",
       "<table border=\"1\" class=\"dataframe\">\n",
       "  <thead>\n",
       "    <tr style=\"text-align: right;\">\n",
       "      <th></th>\n",
       "      <th>x</th>\n",
       "      <th>y</th>\n",
       "    </tr>\n",
       "  </thead>\n",
       "  <tbody>\n",
       "    <tr>\n",
       "      <th>0</th>\n",
       "      <td>-2.000000</td>\n",
       "      <td>-15.000000</td>\n",
       "    </tr>\n",
       "    <tr>\n",
       "      <th>1</th>\n",
       "      <td>-1.939394</td>\n",
       "      <td>-13.309236</td>\n",
       "    </tr>\n",
       "    <tr>\n",
       "      <th>2</th>\n",
       "      <td>-1.878788</td>\n",
       "      <td>-11.690597</td>\n",
       "    </tr>\n",
       "    <tr>\n",
       "      <th>3</th>\n",
       "      <td>-1.818182</td>\n",
       "      <td>-10.142750</td>\n",
       "    </tr>\n",
       "    <tr>\n",
       "      <th>4</th>\n",
       "      <td>-1.757576</td>\n",
       "      <td>-8.664357</td>\n",
       "    </tr>\n",
       "    <tr>\n",
       "      <th>...</th>\n",
       "      <td>...</td>\n",
       "      <td>...</td>\n",
       "    </tr>\n",
       "    <tr>\n",
       "      <th>95</th>\n",
       "      <td>3.757576</td>\n",
       "      <td>8.455909</td>\n",
       "    </tr>\n",
       "    <tr>\n",
       "      <th>96</th>\n",
       "      <td>3.818182</td>\n",
       "      <td>9.258452</td>\n",
       "    </tr>\n",
       "    <tr>\n",
       "      <th>97</th>\n",
       "      <td>3.878788</td>\n",
       "      <td>10.115758</td>\n",
       "    </tr>\n",
       "    <tr>\n",
       "      <th>98</th>\n",
       "      <td>3.939394</td>\n",
       "      <td>11.029162</td>\n",
       "    </tr>\n",
       "    <tr>\n",
       "      <th>99</th>\n",
       "      <td>4.000000</td>\n",
       "      <td>12.000000</td>\n",
       "    </tr>\n",
       "  </tbody>\n",
       "</table>\n",
       "<p>100 rows × 2 columns</p>\n",
       "</div>"
      ],
      "text/plain": [
       "           x          y\n",
       "0  -2.000000 -15.000000\n",
       "1  -1.939394 -13.309236\n",
       "2  -1.878788 -11.690597\n",
       "3  -1.818182 -10.142750\n",
       "4  -1.757576  -8.664357\n",
       "..       ...        ...\n",
       "95  3.757576   8.455909\n",
       "96  3.818182   9.258452\n",
       "97  3.878788  10.115758\n",
       "98  3.939394  11.029162\n",
       "99  4.000000  12.000000\n",
       "\n",
       "[100 rows x 2 columns]"
      ]
     },
     "execution_count": 2,
     "metadata": {},
     "output_type": "execute_result"
    }
   ],
   "source": [
    "df = pd.read_csv('data_exercise2.csv')\n",
    "df"
   ]
  },
  {
   "cell_type": "markdown",
   "metadata": {},
   "source": [
    "##### __The data contains missing values. In the following we will apply 4 different ways to deal with missing values known from the lecture.__ "
   ]
  },
  {
   "cell_type": "markdown",
   "metadata": {},
   "source": [
    "##### __(a) Drop the rows containing missing values and store your result as ``df1`` (Note: do not drop the rows in the original ``df``).__ "
   ]
  },
  {
   "cell_type": "code",
   "execution_count": 3,
   "metadata": {},
   "outputs": [
    {
     "data": {
      "text/html": [
       "<div>\n",
       "<style scoped>\n",
       "    .dataframe tbody tr th:only-of-type {\n",
       "        vertical-align: middle;\n",
       "    }\n",
       "\n",
       "    .dataframe tbody tr th {\n",
       "        vertical-align: top;\n",
       "    }\n",
       "\n",
       "    .dataframe thead th {\n",
       "        text-align: right;\n",
       "    }\n",
       "</style>\n",
       "<table border=\"1\" class=\"dataframe\">\n",
       "  <thead>\n",
       "    <tr style=\"text-align: right;\">\n",
       "      <th></th>\n",
       "      <th>x</th>\n",
       "      <th>y</th>\n",
       "    </tr>\n",
       "  </thead>\n",
       "  <tbody>\n",
       "    <tr>\n",
       "      <th>0</th>\n",
       "      <td>-2.000000</td>\n",
       "      <td>-15.000000</td>\n",
       "    </tr>\n",
       "    <tr>\n",
       "      <th>1</th>\n",
       "      <td>-1.939394</td>\n",
       "      <td>-13.309236</td>\n",
       "    </tr>\n",
       "    <tr>\n",
       "      <th>2</th>\n",
       "      <td>-1.878788</td>\n",
       "      <td>-11.690597</td>\n",
       "    </tr>\n",
       "    <tr>\n",
       "      <th>3</th>\n",
       "      <td>-1.818182</td>\n",
       "      <td>-10.142750</td>\n",
       "    </tr>\n",
       "    <tr>\n",
       "      <th>4</th>\n",
       "      <td>-1.757576</td>\n",
       "      <td>-8.664357</td>\n",
       "    </tr>\n",
       "    <tr>\n",
       "      <th>...</th>\n",
       "      <td>...</td>\n",
       "      <td>...</td>\n",
       "    </tr>\n",
       "    <tr>\n",
       "      <th>95</th>\n",
       "      <td>3.757576</td>\n",
       "      <td>8.455909</td>\n",
       "    </tr>\n",
       "    <tr>\n",
       "      <th>96</th>\n",
       "      <td>3.818182</td>\n",
       "      <td>9.258452</td>\n",
       "    </tr>\n",
       "    <tr>\n",
       "      <th>97</th>\n",
       "      <td>3.878788</td>\n",
       "      <td>10.115758</td>\n",
       "    </tr>\n",
       "    <tr>\n",
       "      <th>98</th>\n",
       "      <td>3.939394</td>\n",
       "      <td>11.029162</td>\n",
       "    </tr>\n",
       "    <tr>\n",
       "      <th>99</th>\n",
       "      <td>4.000000</td>\n",
       "      <td>12.000000</td>\n",
       "    </tr>\n",
       "  </tbody>\n",
       "</table>\n",
       "<p>98 rows × 2 columns</p>\n",
       "</div>"
      ],
      "text/plain": [
       "           x          y\n",
       "0  -2.000000 -15.000000\n",
       "1  -1.939394 -13.309236\n",
       "2  -1.878788 -11.690597\n",
       "3  -1.818182 -10.142750\n",
       "4  -1.757576  -8.664357\n",
       "..       ...        ...\n",
       "95  3.757576   8.455909\n",
       "96  3.818182   9.258452\n",
       "97  3.878788  10.115758\n",
       "98  3.939394  11.029162\n",
       "99  4.000000  12.000000\n",
       "\n",
       "[98 rows x 2 columns]"
      ]
     },
     "execution_count": 3,
     "metadata": {},
     "output_type": "execute_result"
    }
   ],
   "source": [
    "df1 = df.dropna()\n",
    "df1"
   ]
  },
  {
   "cell_type": "markdown",
   "metadata": {},
   "source": [
    "##### __(b) Another method is to assign a global constant to missing values. Assign ``-1`` to each missing value and store the new dataframe in ``df2``.__ "
   ]
  },
  {
   "cell_type": "code",
   "execution_count": 4,
   "metadata": {},
   "outputs": [
    {
     "data": {
      "text/html": [
       "<div>\n",
       "<style scoped>\n",
       "    .dataframe tbody tr th:only-of-type {\n",
       "        vertical-align: middle;\n",
       "    }\n",
       "\n",
       "    .dataframe tbody tr th {\n",
       "        vertical-align: top;\n",
       "    }\n",
       "\n",
       "    .dataframe thead th {\n",
       "        text-align: right;\n",
       "    }\n",
       "</style>\n",
       "<table border=\"1\" class=\"dataframe\">\n",
       "  <thead>\n",
       "    <tr style=\"text-align: right;\">\n",
       "      <th></th>\n",
       "      <th>x</th>\n",
       "      <th>y</th>\n",
       "    </tr>\n",
       "  </thead>\n",
       "  <tbody>\n",
       "    <tr>\n",
       "      <th>0</th>\n",
       "      <td>-2.000000</td>\n",
       "      <td>-15.000000</td>\n",
       "    </tr>\n",
       "    <tr>\n",
       "      <th>1</th>\n",
       "      <td>-1.939394</td>\n",
       "      <td>-13.309236</td>\n",
       "    </tr>\n",
       "    <tr>\n",
       "      <th>2</th>\n",
       "      <td>-1.878788</td>\n",
       "      <td>-11.690597</td>\n",
       "    </tr>\n",
       "    <tr>\n",
       "      <th>3</th>\n",
       "      <td>-1.818182</td>\n",
       "      <td>-10.142750</td>\n",
       "    </tr>\n",
       "    <tr>\n",
       "      <th>4</th>\n",
       "      <td>-1.757576</td>\n",
       "      <td>-8.664357</td>\n",
       "    </tr>\n",
       "    <tr>\n",
       "      <th>...</th>\n",
       "      <td>...</td>\n",
       "      <td>...</td>\n",
       "    </tr>\n",
       "    <tr>\n",
       "      <th>95</th>\n",
       "      <td>3.757576</td>\n",
       "      <td>8.455909</td>\n",
       "    </tr>\n",
       "    <tr>\n",
       "      <th>96</th>\n",
       "      <td>3.818182</td>\n",
       "      <td>9.258452</td>\n",
       "    </tr>\n",
       "    <tr>\n",
       "      <th>97</th>\n",
       "      <td>3.878788</td>\n",
       "      <td>10.115758</td>\n",
       "    </tr>\n",
       "    <tr>\n",
       "      <th>98</th>\n",
       "      <td>3.939394</td>\n",
       "      <td>11.029162</td>\n",
       "    </tr>\n",
       "    <tr>\n",
       "      <th>99</th>\n",
       "      <td>4.000000</td>\n",
       "      <td>12.000000</td>\n",
       "    </tr>\n",
       "  </tbody>\n",
       "</table>\n",
       "<p>100 rows × 2 columns</p>\n",
       "</div>"
      ],
      "text/plain": [
       "           x          y\n",
       "0  -2.000000 -15.000000\n",
       "1  -1.939394 -13.309236\n",
       "2  -1.878788 -11.690597\n",
       "3  -1.818182 -10.142750\n",
       "4  -1.757576  -8.664357\n",
       "..       ...        ...\n",
       "95  3.757576   8.455909\n",
       "96  3.818182   9.258452\n",
       "97  3.878788  10.115758\n",
       "98  3.939394  11.029162\n",
       "99  4.000000  12.000000\n",
       "\n",
       "[100 rows x 2 columns]"
      ]
     },
     "execution_count": 4,
     "metadata": {},
     "output_type": "execute_result"
    }
   ],
   "source": [
    "df2 = df.fillna(-1)\n",
    "df2"
   ]
  },
  {
   "cell_type": "markdown",
   "metadata": {
    "tags": []
   },
   "source": [
    "##### __(c) Now fill in the missing values using the attribute mean and store it in ``df3``. Plot the result using the ``seaborn.scatterplot``method.__ "
   ]
  },
  {
   "cell_type": "code",
   "execution_count": 5,
   "metadata": {},
   "outputs": [
    {
     "data": {
      "text/plain": [
       "x    1.000000\n",
       "y    4.390449\n",
       "dtype: float64"
      ]
     },
     "execution_count": 5,
     "metadata": {},
     "output_type": "execute_result"
    }
   ],
   "source": [
    "df3 = df.fillna(df.mean())\n",
    "df3.mean()"
   ]
  },
  {
   "cell_type": "code",
   "execution_count": 6,
   "metadata": {},
   "outputs": [
    {
     "data": {
      "text/plain": [
       "<AxesSubplot:>"
      ]
     },
     "execution_count": 6,
     "metadata": {},
     "output_type": "execute_result"
    },
    {
     "data": {
      "image/png": "[encoded data removed]",
      "text/plain": [
       "<Figure size 432x288 with 1 Axes>"
      ]
     },
     "metadata": {
      "needs_background": "light"
     },
     "output_type": "display_data"
    }
   ],
   "source": [
    "sns.scatterplot(data = df3)"
   ]
  },
  {
   "cell_type": "markdown",
   "metadata": {},
   "source": [
    "##### __(d) Instead of filling the missing values with the mean, we will now try to fill them using regression.__\n",
    "##### __(d.1)What polynomial degree does the function you are looking for most likely have?__ _(Hint: Use the ``seaborn.regplot`` method and modify the ``order`` parameter)_"
   ]
  },
  {
   "cell_type": "code",
   "execution_count": 7,
   "metadata": {},
   "outputs": [
    {
     "data": {
      "text/plain": [
       "<AxesSubplot:xlabel='x', ylabel='y'>"
      ]
     },
     "execution_count": 7,
     "metadata": {},
     "output_type": "execute_result"
    },
    {
     "data": {
      "image/png": "[encoded data removed]",
      "text/plain": [
       "<Figure size 432x288 with 1 Axes>"
      ]
     },
     "metadata": {
      "needs_background": "light"
     },
     "output_type": "display_data"
    }
   ],
   "source": [
    "sns.regplot(data = df3, x = \"x\", y = \"y\", order = 3)"
   ]
  },
  {
   "cell_type": "markdown",
   "metadata": {},
   "source": [
    "```\n",
    "Most likely it will have a degree of 3 or another odd number (5,7) as the function is not formed as a parabel.\n",
    "Polynomial degree 3 \n",
    "```"
   ]
  },
  {
   "cell_type": "markdown",
   "metadata": {},
   "source": [
    "##### __(d.2) Compute the coefficients for the function that describes the data__ _(Hint: drop missing values and use ``numpy.polyfit()``)_"
   ]
  },
  {
   "cell_type": "code",
   "execution_count": 8,
   "metadata": {},
   "outputs": [
    {
     "name": "stdout",
     "output_type": "stream",
     "text": [
      "[ 1.  -4.   0.5 10. ]\n"
     ]
    }
   ],
   "source": [
    "x = df1[\"x\"]\n",
    "y = df1[\"y\"]\n",
    "z = np.polyfit(x, y, 3)\n",
    "print(z)\n",
    "##########\n",
    "# I was using the df1 for that because there we had all rows dropped that had NAs\n",
    "# These are the coefficients:  1 , -4 ,  0.5, 10\n",
    "# The resulting regression equation therefore is y = x^3 - 4x^2 + 0.5x + 10"
   ]
  },
  {
   "cell_type": "markdown",
   "metadata": {},
   "source": [
    "##### __(d.3) Use the computed polynomial coefficients to implement a regression method. Use the method to fill the missing values in the dataframe with values  and store it as ``df4``.__"
   ]
  },
  {
   "cell_type": "code",
   "execution_count": 9,
   "metadata": {},
   "outputs": [],
   "source": [
    "def fill_with_regression(x):\n",
    "    return 1*x**3 - 4*x**2 + 0.5*x + 10 # use regression from above"
   ]
  },
  {
   "cell_type": "code",
   "execution_count": 10,
   "metadata": {},
   "outputs": [],
   "source": [
    "df4 = df\n",
    "\n",
    "# fill missing values by using the regression\n",
    "df4['y'] = df4['y'].fillna(fill_with_regression(df4['x']))"
   ]
  },
  {
   "cell_type": "code",
   "execution_count": 11,
   "metadata": {},
   "outputs": [
    {
     "data": {
      "text/plain": [
       "x    0\n",
       "y    0\n",
       "dtype: int64"
      ]
     },
     "execution_count": 11,
     "metadata": {},
     "output_type": "execute_result"
    }
   ],
   "source": [
    "df4.isnull().sum() # check that there are no missing values left"
   ]
  },
  {
   "cell_type": "markdown",
   "metadata": {
    "tags": []
   },
   "source": [
    "##### __(e) Plot all your results (dropNA, global constant, mean and polynomial regression) and compare the results. Which of the 4 methods would you use here? Explain your decision.__"
   ]
  },
  {
   "cell_type": "code",
   "execution_count": 12,
   "metadata": {},
   "outputs": [
    {
     "data": {
      "image/png": "[encoded data removed]",
      "text/plain": [
       "<Figure size 432x288 with 1 Axes>"
      ]
     },
     "metadata": {
      "needs_background": "light"
     },
     "output_type": "display_data"
    }
   ],
   "source": [
    "plot1 = sns.scatterplot(data = df1)"
   ]
  },
  {
   "cell_type": "code",
   "execution_count": 13,
   "metadata": {},
   "outputs": [
    {
     "data": {
      "image/png": "[encoded data removed]",
      "text/plain": [
       "<Figure size 432x288 with 1 Axes>"
      ]
     },
     "metadata": {
      "needs_background": "light"
     },
     "output_type": "display_data"
    }
   ],
   "source": [
    "plot2 = sns.scatterplot(data = df2)"
   ]
  },
  {
   "cell_type": "code",
   "execution_count": 14,
   "metadata": {},
   "outputs": [
    {
     "data": {
      "text/plain": [
       "<AxesSubplot:>"
      ]
     },
     "execution_count": 14,
     "metadata": {},
     "output_type": "execute_result"
    },
    {
     "data": {
      "image/png": "[encoded data removed]",
      "text/plain": [
       "<Figure size 432x288 with 1 Axes>"
      ]
     },
     "metadata": {
      "needs_background": "light"
     },
     "output_type": "display_data"
    }
   ],
   "source": [
    "sns.scatterplot(data = df3)"
   ]
  },
  {
   "cell_type": "code",
   "execution_count": 15,
   "metadata": {},
   "outputs": [
    {
     "data": {
      "text/plain": [
       "<AxesSubplot:>"
      ]
     },
     "execution_count": 15,
     "metadata": {},
     "output_type": "execute_result"
    },
    {
     "data": {
      "image/png": "[encoded data removed]",
      "text/plain": [
       "<Figure size 432x288 with 1 Axes>"
      ]
     },
     "metadata": {
      "needs_background": "light"
     },
     "output_type": "display_data"
    }
   ],
   "source": [
    "sns.scatterplot(data = df4)"
   ]
  },
  {
   "cell_type": "markdown",
   "metadata": {},
   "source": [
    "```\n",
    "Handling the missing values with the regression imputation is definitely the best way, as it produces the most plausible results and avoids complications further down the KDD-way like having strong outliers (as in df2 or df3) or still having missing data (as in df1)\n",
    "```"
   ]
  },
  {
   "cell_type": "markdown",
   "metadata": {},
   "source": [
    "---"
   ]
  },
  {
   "cell_type": "markdown",
   "metadata": {},
   "source": [
    "#### Exercise 3: Data Cleaning\n",
    "Clean the following cereal dataset containing nutrition data on 80 cereal products. The commands have to work for different datasets as well. \n",
    "\n",
    "Careful: If you like to eat cereal, do yourself a favor and do not look at the numbers. After seeing these data it will never be the same to eat Fruity Pebbles again."
   ]
  },
  {
   "cell_type": "code",
   "execution_count": 16,
   "metadata": {},
   "outputs": [
    {
     "data": {
      "text/html": [
       "<div>\n",
       "<style scoped>\n",
       "    .dataframe tbody tr th:only-of-type {\n",
       "        vertical-align: middle;\n",
       "    }\n",
       "\n",
       "    .dataframe tbody tr th {\n",
       "        vertical-align: top;\n",
       "    }\n",
       "\n",
       "    .dataframe thead th {\n",
       "        text-align: right;\n",
       "    }\n",
       "</style>\n",
       "<table border=\"1\" class=\"dataframe\">\n",
       "  <thead>\n",
       "    <tr style=\"text-align: right;\">\n",
       "      <th></th>\n",
       "      <th>name</th>\n",
       "      <th>mfr</th>\n",
       "      <th>type</th>\n",
       "      <th>calories</th>\n",
       "      <th>protein</th>\n",
       "      <th>fat</th>\n",
       "      <th>sodium</th>\n",
       "      <th>fiber</th>\n",
       "      <th>carbo</th>\n",
       "      <th>sugars</th>\n",
       "      <th>potass</th>\n",
       "      <th>vitamins</th>\n",
       "      <th>shelf</th>\n",
       "      <th>weight</th>\n",
       "      <th>cups</th>\n",
       "      <th>rating;;</th>\n",
       "    </tr>\n",
       "  </thead>\n",
       "  <tbody>\n",
       "    <tr>\n",
       "      <th>0</th>\n",
       "      <td>100% Bran</td>\n",
       "      <td>N</td>\n",
       "      <td>C</td>\n",
       "      <td>70.0</td>\n",
       "      <td>4.0</td>\n",
       "      <td>1</td>\n",
       "      <td>130.0</td>\n",
       "      <td>10.0</td>\n",
       "      <td>5.0</td>\n",
       "      <td>6</td>\n",
       "      <td>280.0</td>\n",
       "      <td>25.0</td>\n",
       "      <td>3</td>\n",
       "      <td>1.0</td>\n",
       "      <td>0.33</td>\n",
       "      <td>68.402973;;</td>\n",
       "    </tr>\n",
       "    <tr>\n",
       "      <th>1</th>\n",
       "      <td>100% Natural Bran</td>\n",
       "      <td>Q</td>\n",
       "      <td>C</td>\n",
       "      <td>120.0</td>\n",
       "      <td>3.0</td>\n",
       "      <td>5</td>\n",
       "      <td>15.0</td>\n",
       "      <td>2.0</td>\n",
       "      <td>8.0</td>\n",
       "      <td>8</td>\n",
       "      <td>135.0</td>\n",
       "      <td>0.0</td>\n",
       "      <td>3</td>\n",
       "      <td>1.0</td>\n",
       "      <td>1.00</td>\n",
       "      <td>33.983679;;</td>\n",
       "    </tr>\n",
       "    <tr>\n",
       "      <th>2</th>\n",
       "      <td>All-Bran</td>\n",
       "      <td>K</td>\n",
       "      <td>C</td>\n",
       "      <td>70.0</td>\n",
       "      <td>4.0</td>\n",
       "      <td>1</td>\n",
       "      <td>260.0</td>\n",
       "      <td>9.0</td>\n",
       "      <td>7.0</td>\n",
       "      <td>5</td>\n",
       "      <td>320.0</td>\n",
       "      <td>25.0</td>\n",
       "      <td>3</td>\n",
       "      <td>1.0</td>\n",
       "      <td>0.33</td>\n",
       "      <td>59.425505;;</td>\n",
       "    </tr>\n",
       "    <tr>\n",
       "      <th>3</th>\n",
       "      <td>All-Bran with Extra Fiber</td>\n",
       "      <td>K</td>\n",
       "      <td>C</td>\n",
       "      <td>50.0</td>\n",
       "      <td>4.0</td>\n",
       "      <td>0</td>\n",
       "      <td>140.0</td>\n",
       "      <td>14.0</td>\n",
       "      <td>8.0</td>\n",
       "      <td>0</td>\n",
       "      <td>330.0</td>\n",
       "      <td>25.0</td>\n",
       "      <td>3</td>\n",
       "      <td>1.0</td>\n",
       "      <td>0.50</td>\n",
       "      <td>93.704912;;</td>\n",
       "    </tr>\n",
       "    <tr>\n",
       "      <th>4</th>\n",
       "      <td>Almond Delight</td>\n",
       "      <td>R</td>\n",
       "      <td>C</td>\n",
       "      <td>110.0</td>\n",
       "      <td>2.0</td>\n",
       "      <td>2</td>\n",
       "      <td>200.0</td>\n",
       "      <td>1.0</td>\n",
       "      <td>14.0</td>\n",
       "      <td>8</td>\n",
       "      <td>-1.0</td>\n",
       "      <td>25.0</td>\n",
       "      <td>3</td>\n",
       "      <td>1.0</td>\n",
       "      <td>0.75</td>\n",
       "      <td>34.384843;;</td>\n",
       "    </tr>\n",
       "    <tr>\n",
       "      <th>...</th>\n",
       "      <td>...</td>\n",
       "      <td>...</td>\n",
       "      <td>...</td>\n",
       "      <td>...</td>\n",
       "      <td>...</td>\n",
       "      <td>...</td>\n",
       "      <td>...</td>\n",
       "      <td>...</td>\n",
       "      <td>...</td>\n",
       "      <td>...</td>\n",
       "      <td>...</td>\n",
       "      <td>...</td>\n",
       "      <td>...</td>\n",
       "      <td>...</td>\n",
       "      <td>...</td>\n",
       "      <td>...</td>\n",
       "    </tr>\n",
       "    <tr>\n",
       "      <th>72</th>\n",
       "      <td>Triples</td>\n",
       "      <td>G</td>\n",
       "      <td>C</td>\n",
       "      <td>110.0</td>\n",
       "      <td>2.0</td>\n",
       "      <td>1</td>\n",
       "      <td>250.0</td>\n",
       "      <td>0.0</td>\n",
       "      <td>21.0</td>\n",
       "      <td>3</td>\n",
       "      <td>60.0</td>\n",
       "      <td>25.0</td>\n",
       "      <td>3</td>\n",
       "      <td>1.0</td>\n",
       "      <td>0.75</td>\n",
       "      <td>39.106174;;</td>\n",
       "    </tr>\n",
       "    <tr>\n",
       "      <th>73</th>\n",
       "      <td>Trix</td>\n",
       "      <td>G</td>\n",
       "      <td>C</td>\n",
       "      <td>110.0</td>\n",
       "      <td>1.0</td>\n",
       "      <td>1</td>\n",
       "      <td>140.0</td>\n",
       "      <td>0.0</td>\n",
       "      <td>13.0</td>\n",
       "      <td>12</td>\n",
       "      <td>25.0</td>\n",
       "      <td>25.0</td>\n",
       "      <td>2</td>\n",
       "      <td>1.0</td>\n",
       "      <td>1.00</td>\n",
       "      <td>27.753301;;</td>\n",
       "    </tr>\n",
       "    <tr>\n",
       "      <th>74</th>\n",
       "      <td>Wheat Chex</td>\n",
       "      <td>R</td>\n",
       "      <td>C</td>\n",
       "      <td>100.0</td>\n",
       "      <td>3.0</td>\n",
       "      <td>1</td>\n",
       "      <td>NaN</td>\n",
       "      <td>3.0</td>\n",
       "      <td>17.0</td>\n",
       "      <td>3</td>\n",
       "      <td>115.0</td>\n",
       "      <td>25.0</td>\n",
       "      <td>1</td>\n",
       "      <td>1.0</td>\n",
       "      <td>0.67</td>\n",
       "      <td>49.787445;;</td>\n",
       "    </tr>\n",
       "    <tr>\n",
       "      <th>75</th>\n",
       "      <td>Wheaties</td>\n",
       "      <td>G</td>\n",
       "      <td>C</td>\n",
       "      <td>100.0</td>\n",
       "      <td>3.0</td>\n",
       "      <td>1</td>\n",
       "      <td>200.0</td>\n",
       "      <td>3.0</td>\n",
       "      <td>17.0</td>\n",
       "      <td>3</td>\n",
       "      <td>110.0</td>\n",
       "      <td>25.0</td>\n",
       "      <td>1</td>\n",
       "      <td>1.0</td>\n",
       "      <td>1.00</td>\n",
       "      <td>51.592193;;</td>\n",
       "    </tr>\n",
       "    <tr>\n",
       "      <th>76</th>\n",
       "      <td>Wheaties Honey Gold</td>\n",
       "      <td>G</td>\n",
       "      <td>C</td>\n",
       "      <td>110.0</td>\n",
       "      <td>2.0</td>\n",
       "      <td>1</td>\n",
       "      <td>200.0</td>\n",
       "      <td>1.0</td>\n",
       "      <td>16.0</td>\n",
       "      <td>8</td>\n",
       "      <td>60.0</td>\n",
       "      <td>25.0</td>\n",
       "      <td>1</td>\n",
       "      <td>1.0</td>\n",
       "      <td>0.75</td>\n",
       "      <td>36.187559;;</td>\n",
       "    </tr>\n",
       "  </tbody>\n",
       "</table>\n",
       "<p>77 rows × 16 columns</p>\n",
       "</div>"
      ],
      "text/plain": [
       "                         name mfr type  calories  protein  fat  sodium  fiber  \\\n",
       "0                   100% Bran   N    C      70.0      4.0    1   130.0   10.0   \n",
       "1           100% Natural Bran   Q    C     120.0      3.0    5    15.0    2.0   \n",
       "2                    All-Bran   K    C      70.0      4.0    1   260.0    9.0   \n",
       "3   All-Bran with Extra Fiber   K    C      50.0      4.0    0   140.0   14.0   \n",
       "4              Almond Delight   R    C     110.0      2.0    2   200.0    1.0   \n",
       "..                        ...  ..  ...       ...      ...  ...     ...    ...   \n",
       "72                    Triples   G    C     110.0      2.0    1   250.0    0.0   \n",
       "73                       Trix   G    C     110.0      1.0    1   140.0    0.0   \n",
       "74                 Wheat Chex   R    C     100.0      3.0    1     NaN    3.0   \n",
       "75                   Wheaties   G    C     100.0      3.0    1   200.0    3.0   \n",
       "76        Wheaties Honey Gold   G    C     110.0      2.0    1   200.0    1.0   \n",
       "\n",
       "    carbo  sugars  potass  vitamins  shelf  weight  cups     rating;;  \n",
       "0     5.0       6   280.0      25.0      3     1.0  0.33  68.402973;;  \n",
       "1     8.0       8   135.0       0.0      3     1.0  1.00  33.983679;;  \n",
       "2     7.0       5   320.0      25.0      3     1.0  0.33  59.425505;;  \n",
       "3     8.0       0   330.0      25.0      3     1.0  0.50  93.704912;;  \n",
       "4    14.0       8    -1.0      25.0      3     1.0  0.75  34.384843;;  \n",
       "..    ...     ...     ...       ...    ...     ...   ...          ...  \n",
       "72   21.0       3    60.0      25.0      3     1.0  0.75  39.106174;;  \n",
       "73   13.0      12    25.0      25.0      2     1.0  1.00  27.753301;;  \n",
       "74   17.0       3   115.0      25.0      1     1.0  0.67  49.787445;;  \n",
       "75   17.0       3   110.0      25.0      1     1.0  1.00  51.592193;;  \n",
       "76   16.0       8    60.0      25.0      1     1.0  0.75  36.187559;;  \n",
       "\n",
       "[77 rows x 16 columns]"
      ]
     },
     "execution_count": 16,
     "metadata": {},
     "output_type": "execute_result"
    }
   ],
   "source": [
    "import pandas as pd\n",
    "df = pd.read_csv('cereal.csv')\n",
    "df"
   ]
  },
  {
   "cell_type": "markdown",
   "metadata": {},
   "source": [
    "##### __(a) Are there columns with missing values?__"
   ]
  },
  {
   "cell_type": "code",
   "execution_count": 17,
   "metadata": {},
   "outputs": [
    {
     "data": {
      "text/plain": [
       "Index(['calories', 'protein', 'sodium', 'carbo', 'potass', 'vitamins', 'cups'], dtype='object')"
      ]
     },
     "execution_count": 17,
     "metadata": {},
     "output_type": "execute_result"
    }
   ],
   "source": [
    "df.columns[df.isnull().any()]\n",
    "# The columns in the output are the columns with missing values"
   ]
  },
  {
   "cell_type": "markdown",
   "metadata": {},
   "source": [
    "##### __(b) Drop all rows that have at least three `NaN` values.__"
   ]
  },
  {
   "cell_type": "code",
   "execution_count": 18,
   "metadata": {},
   "outputs": [
    {
     "data": {
      "text/html": [
       "<div>\n",
       "<style scoped>\n",
       "    .dataframe tbody tr th:only-of-type {\n",
       "        vertical-align: middle;\n",
       "    }\n",
       "\n",
       "    .dataframe tbody tr th {\n",
       "        vertical-align: top;\n",
       "    }\n",
       "\n",
       "    .dataframe thead th {\n",
       "        text-align: right;\n",
       "    }\n",
       "</style>\n",
       "<table border=\"1\" class=\"dataframe\">\n",
       "  <thead>\n",
       "    <tr style=\"text-align: right;\">\n",
       "      <th></th>\n",
       "      <th>name</th>\n",
       "      <th>mfr</th>\n",
       "      <th>type</th>\n",
       "      <th>calories</th>\n",
       "      <th>protein</th>\n",
       "      <th>fat</th>\n",
       "      <th>sodium</th>\n",
       "      <th>fiber</th>\n",
       "      <th>carbo</th>\n",
       "      <th>sugars</th>\n",
       "      <th>potass</th>\n",
       "      <th>vitamins</th>\n",
       "      <th>shelf</th>\n",
       "      <th>weight</th>\n",
       "      <th>cups</th>\n",
       "      <th>rating;;</th>\n",
       "    </tr>\n",
       "  </thead>\n",
       "  <tbody>\n",
       "    <tr>\n",
       "      <th>0</th>\n",
       "      <td>100% Bran</td>\n",
       "      <td>N</td>\n",
       "      <td>C</td>\n",
       "      <td>70.0</td>\n",
       "      <td>4.0</td>\n",
       "      <td>1</td>\n",
       "      <td>130.0</td>\n",
       "      <td>10.0</td>\n",
       "      <td>5.0</td>\n",
       "      <td>6</td>\n",
       "      <td>280.0</td>\n",
       "      <td>25.0</td>\n",
       "      <td>3</td>\n",
       "      <td>1.0</td>\n",
       "      <td>0.33</td>\n",
       "      <td>68.402973;;</td>\n",
       "    </tr>\n",
       "    <tr>\n",
       "      <th>1</th>\n",
       "      <td>100% Natural Bran</td>\n",
       "      <td>Q</td>\n",
       "      <td>C</td>\n",
       "      <td>120.0</td>\n",
       "      <td>3.0</td>\n",
       "      <td>5</td>\n",
       "      <td>15.0</td>\n",
       "      <td>2.0</td>\n",
       "      <td>8.0</td>\n",
       "      <td>8</td>\n",
       "      <td>135.0</td>\n",
       "      <td>0.0</td>\n",
       "      <td>3</td>\n",
       "      <td>1.0</td>\n",
       "      <td>1.00</td>\n",
       "      <td>33.983679;;</td>\n",
       "    </tr>\n",
       "    <tr>\n",
       "      <th>2</th>\n",
       "      <td>All-Bran</td>\n",
       "      <td>K</td>\n",
       "      <td>C</td>\n",
       "      <td>70.0</td>\n",
       "      <td>4.0</td>\n",
       "      <td>1</td>\n",
       "      <td>260.0</td>\n",
       "      <td>9.0</td>\n",
       "      <td>7.0</td>\n",
       "      <td>5</td>\n",
       "      <td>320.0</td>\n",
       "      <td>25.0</td>\n",
       "      <td>3</td>\n",
       "      <td>1.0</td>\n",
       "      <td>0.33</td>\n",
       "      <td>59.425505;;</td>\n",
       "    </tr>\n",
       "    <tr>\n",
       "      <th>3</th>\n",
       "      <td>All-Bran with Extra Fiber</td>\n",
       "      <td>K</td>\n",
       "      <td>C</td>\n",
       "      <td>50.0</td>\n",
       "      <td>4.0</td>\n",
       "      <td>0</td>\n",
       "      <td>140.0</td>\n",
       "      <td>14.0</td>\n",
       "      <td>8.0</td>\n",
       "      <td>0</td>\n",
       "      <td>330.0</td>\n",
       "      <td>25.0</td>\n",
       "      <td>3</td>\n",
       "      <td>1.0</td>\n",
       "      <td>0.50</td>\n",
       "      <td>93.704912;;</td>\n",
       "    </tr>\n",
       "    <tr>\n",
       "      <th>4</th>\n",
       "      <td>Almond Delight</td>\n",
       "      <td>R</td>\n",
       "      <td>C</td>\n",
       "      <td>110.0</td>\n",
       "      <td>2.0</td>\n",
       "      <td>2</td>\n",
       "      <td>200.0</td>\n",
       "      <td>1.0</td>\n",
       "      <td>14.0</td>\n",
       "      <td>8</td>\n",
       "      <td>-1.0</td>\n",
       "      <td>25.0</td>\n",
       "      <td>3</td>\n",
       "      <td>1.0</td>\n",
       "      <td>0.75</td>\n",
       "      <td>34.384843;;</td>\n",
       "    </tr>\n",
       "    <tr>\n",
       "      <th>...</th>\n",
       "      <td>...</td>\n",
       "      <td>...</td>\n",
       "      <td>...</td>\n",
       "      <td>...</td>\n",
       "      <td>...</td>\n",
       "      <td>...</td>\n",
       "      <td>...</td>\n",
       "      <td>...</td>\n",
       "      <td>...</td>\n",
       "      <td>...</td>\n",
       "      <td>...</td>\n",
       "      <td>...</td>\n",
       "      <td>...</td>\n",
       "      <td>...</td>\n",
       "      <td>...</td>\n",
       "      <td>...</td>\n",
       "    </tr>\n",
       "    <tr>\n",
       "      <th>72</th>\n",
       "      <td>Triples</td>\n",
       "      <td>G</td>\n",
       "      <td>C</td>\n",
       "      <td>110.0</td>\n",
       "      <td>2.0</td>\n",
       "      <td>1</td>\n",
       "      <td>250.0</td>\n",
       "      <td>0.0</td>\n",
       "      <td>21.0</td>\n",
       "      <td>3</td>\n",
       "      <td>60.0</td>\n",
       "      <td>25.0</td>\n",
       "      <td>3</td>\n",
       "      <td>1.0</td>\n",
       "      <td>0.75</td>\n",
       "      <td>39.106174;;</td>\n",
       "    </tr>\n",
       "    <tr>\n",
       "      <th>73</th>\n",
       "      <td>Trix</td>\n",
       "      <td>G</td>\n",
       "      <td>C</td>\n",
       "      <td>110.0</td>\n",
       "      <td>1.0</td>\n",
       "      <td>1</td>\n",
       "      <td>140.0</td>\n",
       "      <td>0.0</td>\n",
       "      <td>13.0</td>\n",
       "      <td>12</td>\n",
       "      <td>25.0</td>\n",
       "      <td>25.0</td>\n",
       "      <td>2</td>\n",
       "      <td>1.0</td>\n",
       "      <td>1.00</td>\n",
       "      <td>27.753301;;</td>\n",
       "    </tr>\n",
       "    <tr>\n",
       "      <th>74</th>\n",
       "      <td>Wheat Chex</td>\n",
       "      <td>R</td>\n",
       "      <td>C</td>\n",
       "      <td>100.0</td>\n",
       "      <td>3.0</td>\n",
       "      <td>1</td>\n",
       "      <td>NaN</td>\n",
       "      <td>3.0</td>\n",
       "      <td>17.0</td>\n",
       "      <td>3</td>\n",
       "      <td>115.0</td>\n",
       "      <td>25.0</td>\n",
       "      <td>1</td>\n",
       "      <td>1.0</td>\n",
       "      <td>0.67</td>\n",
       "      <td>49.787445;;</td>\n",
       "    </tr>\n",
       "    <tr>\n",
       "      <th>75</th>\n",
       "      <td>Wheaties</td>\n",
       "      <td>G</td>\n",
       "      <td>C</td>\n",
       "      <td>100.0</td>\n",
       "      <td>3.0</td>\n",
       "      <td>1</td>\n",
       "      <td>200.0</td>\n",
       "      <td>3.0</td>\n",
       "      <td>17.0</td>\n",
       "      <td>3</td>\n",
       "      <td>110.0</td>\n",
       "      <td>25.0</td>\n",
       "      <td>1</td>\n",
       "      <td>1.0</td>\n",
       "      <td>1.00</td>\n",
       "      <td>51.592193;;</td>\n",
       "    </tr>\n",
       "    <tr>\n",
       "      <th>76</th>\n",
       "      <td>Wheaties Honey Gold</td>\n",
       "      <td>G</td>\n",
       "      <td>C</td>\n",
       "      <td>110.0</td>\n",
       "      <td>2.0</td>\n",
       "      <td>1</td>\n",
       "      <td>200.0</td>\n",
       "      <td>1.0</td>\n",
       "      <td>16.0</td>\n",
       "      <td>8</td>\n",
       "      <td>60.0</td>\n",
       "      <td>25.0</td>\n",
       "      <td>1</td>\n",
       "      <td>1.0</td>\n",
       "      <td>0.75</td>\n",
       "      <td>36.187559;;</td>\n",
       "    </tr>\n",
       "  </tbody>\n",
       "</table>\n",
       "<p>76 rows × 16 columns</p>\n",
       "</div>"
      ],
      "text/plain": [
       "                         name mfr type  calories  protein  fat  sodium  fiber  \\\n",
       "0                   100% Bran   N    C      70.0      4.0    1   130.0   10.0   \n",
       "1           100% Natural Bran   Q    C     120.0      3.0    5    15.0    2.0   \n",
       "2                    All-Bran   K    C      70.0      4.0    1   260.0    9.0   \n",
       "3   All-Bran with Extra Fiber   K    C      50.0      4.0    0   140.0   14.0   \n",
       "4              Almond Delight   R    C     110.0      2.0    2   200.0    1.0   \n",
       "..                        ...  ..  ...       ...      ...  ...     ...    ...   \n",
       "72                    Triples   G    C     110.0      2.0    1   250.0    0.0   \n",
       "73                       Trix   G    C     110.0      1.0    1   140.0    0.0   \n",
       "74                 Wheat Chex   R    C     100.0      3.0    1     NaN    3.0   \n",
       "75                   Wheaties   G    C     100.0      3.0    1   200.0    3.0   \n",
       "76        Wheaties Honey Gold   G    C     110.0      2.0    1   200.0    1.0   \n",
       "\n",
       "    carbo  sugars  potass  vitamins  shelf  weight  cups     rating;;  \n",
       "0     5.0       6   280.0      25.0      3     1.0  0.33  68.402973;;  \n",
       "1     8.0       8   135.0       0.0      3     1.0  1.00  33.983679;;  \n",
       "2     7.0       5   320.0      25.0      3     1.0  0.33  59.425505;;  \n",
       "3     8.0       0   330.0      25.0      3     1.0  0.50  93.704912;;  \n",
       "4    14.0       8    -1.0      25.0      3     1.0  0.75  34.384843;;  \n",
       "..    ...     ...     ...       ...    ...     ...   ...          ...  \n",
       "72   21.0       3    60.0      25.0      3     1.0  0.75  39.106174;;  \n",
       "73   13.0      12    25.0      25.0      2     1.0  1.00  27.753301;;  \n",
       "74   17.0       3   115.0      25.0      1     1.0  0.67  49.787445;;  \n",
       "75   17.0       3   110.0      25.0      1     1.0  1.00  51.592193;;  \n",
       "76   16.0       8    60.0      25.0      1     1.0  0.75  36.187559;;  \n",
       "\n",
       "[76 rows x 16 columns]"
      ]
     },
     "execution_count": 18,
     "metadata": {},
     "output_type": "execute_result"
    }
   ],
   "source": [
    "# set threshold so that rows only get dropped when they have less than\n",
    "# (number of cols - 2) *valid* values (=minimum 3 NaN values) \n",
    "dfna = df.dropna(thresh=len(df.columns)-2,axis=0) \n",
    "dfna"
   ]
  },
  {
   "cell_type": "markdown",
   "metadata": {},
   "source": [
    "##### __(c) Replace the `NaN` values of remaining columns with missing values using linear interpolation. Limit the maximum number of consecutive `NaN` to fill to ``1``. Are there still `NaN` values and if yes, in which column?__"
   ]
  },
  {
   "cell_type": "code",
   "execution_count": 19,
   "metadata": {},
   "outputs": [
    {
     "name": "stdout",
     "output_type": "stream",
     "text": [
      "                         name mfr type  calories  protein  fat  sodium  fiber  \\\n",
      "0                   100% Bran   N    C      70.0      4.0    1   130.0   10.0   \n",
      "1           100% Natural Bran   Q    C     120.0      3.0    5    15.0    2.0   \n",
      "2                    All-Bran   K    C      70.0      4.0    1   260.0    9.0   \n",
      "3   All-Bran with Extra Fiber   K    C      50.0      4.0    0   140.0   14.0   \n",
      "4              Almond Delight   R    C     110.0      2.0    2   200.0    1.0   \n",
      "..                        ...  ..  ...       ...      ...  ...     ...    ...   \n",
      "72                    Triples   G    C     110.0      2.0    1   250.0    0.0   \n",
      "73                       Trix   G    C     110.0      1.0    1   140.0    0.0   \n",
      "74                 Wheat Chex   R    C     100.0      3.0    1   170.0    3.0   \n",
      "75                   Wheaties   G    C     100.0      3.0    1   200.0    3.0   \n",
      "76        Wheaties Honey Gold   G    C     110.0      2.0    1   200.0    1.0   \n",
      "\n",
      "    carbo  sugars  potass  vitamins  shelf  weight  cups     rating;;  \n",
      "0     5.0       6   280.0      25.0      3     1.0  0.33  68.402973;;  \n",
      "1     8.0       8   135.0       0.0      3     1.0  1.00  33.983679;;  \n",
      "2     7.0       5   320.0      25.0      3     1.0  0.33  59.425505;;  \n",
      "3     8.0       0   330.0      25.0      3     1.0  0.50  93.704912;;  \n",
      "4    14.0       8    -1.0      25.0      3     1.0  0.75  34.384843;;  \n",
      "..    ...     ...     ...       ...    ...     ...   ...          ...  \n",
      "72   21.0       3    60.0      25.0      3     1.0  0.75  39.106174;;  \n",
      "73   13.0      12    25.0      25.0      2     1.0  1.00  27.753301;;  \n",
      "74   17.0       3   115.0      25.0      1     1.0  0.67  49.787445;;  \n",
      "75   17.0       3   110.0      25.0      1     1.0  1.00  51.592193;;  \n",
      "76   16.0       8    60.0      25.0      1     1.0  0.75  36.187559;;  \n",
      "\n",
      "[77 rows x 16 columns]\n"
     ]
    }
   ],
   "source": [
    "df_interpolated = df.interpolate(limit = 1) # maximum number of consecutive NaN to fill \n",
    "# is limited to 1\n",
    "print(df_interpolated)"
   ]
  },
  {
   "cell_type": "code",
   "execution_count": 20,
   "metadata": {},
   "outputs": [
    {
     "name": "stdout",
     "output_type": "stream",
     "text": [
      "There are [0 0 0 0 1 0 0 0 0 0 0 0 0 0 0 0] missing values left.\n",
      "The remaining missing value is in column \"protein\".\n"
     ]
    }
   ],
   "source": [
    "print(f'There are {df_interpolated.isnull().sum().values} missing values left.')\n",
    "print(f'The remaining missing value is in column \"{df_interpolated.columns[4]}\".')"
   ]
  },
  {
   "cell_type": "markdown",
   "metadata": {},
   "source": [
    "---"
   ]
  },
  {
   "cell_type": "markdown",
   "metadata": {},
   "source": [
    "#### Exercise 4: Binning\n",
    "The following data consists of the age of several people: \n",
    "```\n",
    "> [2, 19, 21, 23, 24, 25, 28, 29, 30, 30, 33, 35, 36, 36, 40, 45, 46, 48, 48, 48, 52, 54, 56, 58, 59, 59, 62]\n",
    "\n",
    "```"
   ]
  },
  {
   "cell_type": "markdown",
   "metadata": {},
   "source": [
    "##### __(a) Apply binning to the dataset using 3 equal-width bins. Smooth the data using the mean of the bins. Explain the steps of your approach and give the final result.__\n",
    "##### __Please solve this exercise by hand without using Python__ "
   ]
  },
  {
   "cell_type": "markdown",
   "metadata": {},
   "source": [
    "```\n",
    "W = (62-2)/3 = 20\n",
    "Calculate the Width\n",
    "\n",
    "Calculate the range for the different bins\n",
    "Bin1 Range = [2+20] = 22\n",
    "Bin2 Range = [2+2(20)] = 42\n",
    "Bin3 Range = [2+3(20)] = 62\n",
    "\n",
    "Show the ages in the different bins\n",
    "Bin1 = 2, 19, 21\n",
    "Bin2 = 23, 24, 25, 28, 29, 30, 30, 33, 35, 36, 36, 40\n",
    "Bin3 = 45, 46, 48, 48, 48, 52, 54, 56, 58, 59, 59, 62\n",
    "\n",
    "Smoothed Bin = [14, 14, 14, 30.75, 30.75, 30.75, 30.75, 30.75, 30.75, 30.75, 30.75, 30.75, 30.75, 30.75, 30.75, 52.92, 52.92, 52.92, 52.92, 52.92, 52.92, 52.92, 52.92, 52.92, 52.92, 52.92, 52.92]\n",
    "\n",
    "```"
   ]
  },
  {
   "cell_type": "markdown",
   "metadata": {
    "tags": []
   },
   "source": [
    "##### __(b) Apply binning to the dataset using 3 equal-depth bins. Smooth the data using the mean of the bins. Explain the steps of your approach and give the final result.__\n",
    "##### __Please solve this exercise by hand without using Python__ "
   ]
  },
  {
   "cell_type": "markdown",
   "metadata": {},
   "source": [
    "```\n",
    "Number of values/number of bins\n",
    "27/3= 9\n",
    "\n",
    "Bin1 = 2, 19, 21, 23, 24, 25, 28, 29, 30                                  \n",
    "Bin2 = 30, 33, 35, 36, 36, 40, 45, 46, 48\n",
    "Bin3 = 48, 48, 52, 54, 56, 58, 59, 59, 62\n",
    "\n",
    "Smoothed bin = [22.33, 22.33, 22.33, 22.33, 22.33, 22.33, 22.33, 22.33, 22.33, 38.78, 38.78, 38.78, 38.78, 38.78, 38.78, 38.78, 38.78, 38.78, 55.11, 55.11, 55.11, 55.11, 55.11, 55.11, 55.11, 55.11, 55.11]\n",
    "```"
   ]
  },
  {
   "cell_type": "markdown",
   "metadata": {},
   "source": [
    "##### __(c) Compare the results from a) and b). Give one reason why equal-depth binning might be preferable in this scenario.__"
   ]
  },
  {
   "cell_type": "markdown",
   "metadata": {},
   "source": [
    "```\n",
    "Equal-depth binning is preferable as it is less prone to distortions due to outliers. In this scenario, the first value (age 2) is an outlier that leads to very inequally sized bins when using equal-width binning.\n",
    "```"
   ]
  },
  {
   "cell_type": "markdown",
   "metadata": {},
   "source": [
    "---"
   ]
  },
  {
   "cell_type": "markdown",
   "metadata": {},
   "source": [
    "#### Exercise 4: Normalization"
   ]
  },
  {
   "cell_type": "markdown",
   "metadata": {
    "tags": []
   },
   "source": [
    "##### __(a) Which of the columns in the following table can be normalized using the linear or logarithmic min-max normalization? Discuss if the normalization is useful or not.__\n",
    "\n",
    "|id |Gender|Size (cm)|Weight (kg)|Hair Color|Blood Type|Glasses|Salary(€)|\n",
    "|---|------|---------|-----------|----------|----------|-------|------|\n",
    "|22|Female|175|65|red|A|yes|3900|\n",
    "|23|Female|176|71|red|AB|yes|4200|\n",
    "|24|Female|176|71|red|O|yes|2800|\n",
    "|25|Female|179|69|black|B|yes|5100|\n",
    "|26|Female|195|62|black|B|no|3850|\n",
    "|27|Female|204|64|black|O|yes|2200|\n",
    "|28|Female|163|70|brown|AB|no|8000|\n",
    "|29|Female|172|62|brown|AB|no|1900|\n",
    "|30|Female|166|52|brown|AB|no|4450|\n",
    "|31|Female|182|67|brown|AB|no|3900|\n",
    "|32|Female|168|70|brown|O|yes|65000|\n",
    "|33|Female|168|59|blond|B|no|450|\n",
    "|34|Male|168|62|black|B|no|5100|\n",
    "|35|Male|178|63|red|B|no|450|\n",
    "|36|Male|178|59|red|AB|no|2900|\n",
    "|37|Male|172|67|brown|A|yes|3200|\n",
    "|38|Male|172|58|brown|A|no|3100|\n",
    "|39|Male|185|62|brown|A|no|10500|\n",
    "|40|Male|190|76|black|B|yes|2800|\n",
    "|41|Male|184|70|black|B|yes|4100|"
   ]
  },
  {
   "cell_type": "markdown",
   "metadata": {},
   "source": [
    "```\n",
    "Normalization can be used for numeric values in order to normalize their distribution (usually to values between 0 and 1).\n",
    "The varialbes height, weight and salary from the df are suitalbe for normalization.\n",
    "Logarithmic normalization is widely used for monetary data, e.g. salary, as it displays the data in percental relations, normalizing salary with logarithmic normalization therefore seems plausible. \n",
    "The variables height and weight could be linearly normalized to 0:1 to handle their differences in scales (which is approx 160 to 210 for height and 50 to 120 for weight).\n",
    "```"
   ]
  },
  {
   "cell_type": "markdown",
   "metadata": {},
   "source": [
    "<font color='red'> id can also be normalized but is not useful"
   ]
  },
  {
   "cell_type": "markdown",
   "metadata": {
    "tags": []
   },
   "source": [
    "##### __(b) Using the column “Size”, use linear min-max normalization to transform the values ``168, 182, 195`` into the range ``[0, 1]``. Give the formula used to compute the values, including min/max value.__"
   ]
  },
  {
   "cell_type": "markdown",
   "metadata": {},
   "source": [
    "The formula is: ```(v - v_min) / (v_max - v_min)```\n",
    "\n",
    "The minimum value is 163 and the maximum value is 204\n",
    "\n",
    "168: ```(168-163)/(204-163) = 5/41 = 0.12195```\n",
    "\n",
    "182: ```(182-163)/(204-163) = 19/41 = 0.46341```\n",
    "\n",
    "195: ```(195-163)/(204-163) = 32/41 = 0.78049```"
   ]
  },
  {
   "cell_type": "markdown",
   "metadata": {
    "tags": []
   },
   "source": [
    "##### __(c) Using the column “Weight”, use logarithmic min-max normalization to transform the values ``59, 63, 70`` into the range ``[0, 1]``. Give the formula used to compute the values, in-cluding min/max value__"
   ]
  },
  {
   "cell_type": "markdown",
   "metadata": {},
   "source": [
    "The formula is: ```(log(x) - log(x_min)) / (log(x_max) - log(x_min))```\n",
    "\n",
    "log(x_min) = log(52) = 1.7160\n",
    "\n",
    "log(x_max) = log(76) = 1.8808\n",
    "\n",
    "59: ```log(59) = 1.7709 -> (1.7709 - 1.7160) / (1.8808 - 1.7160) = 0.0549 / 0.1648 = 0.3331```\n",
    "\n",
    "63: ```log(63) = 1.7993 -> (1.7993 - 1.7160) / (1.8808 - 1.7160) = 0.0833 / 0.1648 = 0.5055```\n",
    "\n",
    "70: ```log(70) = 1.8451 -> (1.8451 - 1.7160) / (1.8808 - 1.7160) = 0.1291 / 0.1648 = 0.7834```"
   ]
  },
  {
   "cell_type": "markdown",
   "metadata": {
    "tags": []
   },
   "source": [
    "##### __(d) Which of the two normalization methods (linear & logarithmic) would you use for the column ``salary`` if you want to use your normalized data later on for some statistical modeling? Briefly explain your choice.__"
   ]
  },
  {
   "cell_type": "markdown",
   "metadata": {},
   "source": [
    "```\n",
    "For money-related values like salaries it makes sense to use a logarithmic normalization. That way the differences can be interpreted as percentage differences, which makes it very convenient to analyze the dataset. Furthermore, extreme outliers (which happen quite often in money-related data) don't distort the normalized scale that much.\n",
    "```"
   ]
  },
  {
   "cell_type": "markdown",
   "metadata": {},
   "source": [
    "##### __(e) Write a function to normalize all columns of the following dataframe using the square root min-max normalization.__"
   ]
  },
  {
   "cell_type": "code",
   "execution_count": 21,
   "metadata": {},
   "outputs": [
    {
     "name": "stdout",
     "output_type": "stream",
     "text": [
      "     a    b      c\n",
      "0    0  750  11122\n",
      "1    1  751  11123\n",
      "2    2  752  11124\n",
      "3    3  753  11125\n",
      "4    4  754  11126\n",
      "..  ..  ...    ...\n",
      "95  95  845  11217\n",
      "96  96  846  11218\n",
      "97  97  847  11219\n",
      "98  98  848  11220\n",
      "99  99  849  11221\n",
      "\n",
      "[100 rows x 3 columns]\n"
     ]
    }
   ],
   "source": [
    "import pandas as pd\n",
    "df_nom = pd.DataFrame(list(zip(range(0, 100) , range(750, 850), range(11122, 11222))), \n",
    "               columns =['a', 'b', 'c'])\n",
    "print(df_nom)"
   ]
  },
  {
   "cell_type": "code",
   "execution_count": 22,
   "metadata": {},
   "outputs": [],
   "source": [
    "def sqrt_min_max_normalization(df):\n",
    "    \n",
    "    \"\"\"\n",
    "    Function to calculate the square root min-max normalization of a dataframe.\n",
    "    \n",
    "    Parameters:\n",
    "    -------------\n",
    "    df: pandas dataframe with columns to be normalized\n",
    "    \n",
    "    Returns:\n",
    "    -------------\n",
    "    df_normalized: pandas dataframe with square root min-max normalized columns\n",
    "    \"\"\"\n",
    "    \n",
    "    df_normalized = df\n",
    "    \n",
    "    for i in df.columns:\n",
    "        df_normalized[i] = np.sqrt(df[i]) - np.sqrt(df[i].min()) / np.sqrt(df[i].max()) - np.sqrt(df[i].min())\n",
    "    \n",
    "    return df_normalized"
   ]
  },
  {
   "cell_type": "code",
   "execution_count": 23,
   "metadata": {},
   "outputs": [
    {
     "data": {
      "text/html": [
       "<div>\n",
       "<style scoped>\n",
       "    .dataframe tbody tr th:only-of-type {\n",
       "        vertical-align: middle;\n",
       "    }\n",
       "\n",
       "    .dataframe tbody tr th {\n",
       "        vertical-align: top;\n",
       "    }\n",
       "\n",
       "    .dataframe thead th {\n",
       "        text-align: right;\n",
       "    }\n",
       "</style>\n",
       "<table border=\"1\" class=\"dataframe\">\n",
       "  <thead>\n",
       "    <tr style=\"text-align: right;\">\n",
       "      <th></th>\n",
       "      <th>a</th>\n",
       "      <th>b</th>\n",
       "      <th>c</th>\n",
       "    </tr>\n",
       "  </thead>\n",
       "  <tbody>\n",
       "    <tr>\n",
       "      <th>0</th>\n",
       "      <td>0.000000</td>\n",
       "      <td>-0.939889</td>\n",
       "      <td>-0.995579</td>\n",
       "    </tr>\n",
       "    <tr>\n",
       "      <th>1</th>\n",
       "      <td>1.000000</td>\n",
       "      <td>-0.921638</td>\n",
       "      <td>-0.990838</td>\n",
       "    </tr>\n",
       "    <tr>\n",
       "      <th>2</th>\n",
       "      <td>1.414214</td>\n",
       "      <td>-0.903399</td>\n",
       "      <td>-0.986097</td>\n",
       "    </tr>\n",
       "    <tr>\n",
       "      <th>3</th>\n",
       "      <td>1.732051</td>\n",
       "      <td>-0.885172</td>\n",
       "      <td>-0.981357</td>\n",
       "    </tr>\n",
       "    <tr>\n",
       "      <th>4</th>\n",
       "      <td>2.000000</td>\n",
       "      <td>-0.866957</td>\n",
       "      <td>-0.976616</td>\n",
       "    </tr>\n",
       "    <tr>\n",
       "      <th>...</th>\n",
       "      <td>...</td>\n",
       "      <td>...</td>\n",
       "      <td>...</td>\n",
       "    </tr>\n",
       "    <tr>\n",
       "      <th>95</th>\n",
       "      <td>9.746794</td>\n",
       "      <td>0.742866</td>\n",
       "      <td>-0.546133</td>\n",
       "    </tr>\n",
       "    <tr>\n",
       "      <th>96</th>\n",
       "      <td>9.797959</td>\n",
       "      <td>0.760062</td>\n",
       "      <td>-0.541412</td>\n",
       "    </tr>\n",
       "    <tr>\n",
       "      <th>97</th>\n",
       "      <td>9.848858</td>\n",
       "      <td>0.777247</td>\n",
       "      <td>-0.536691</td>\n",
       "    </tr>\n",
       "    <tr>\n",
       "      <th>98</th>\n",
       "      <td>9.899495</td>\n",
       "      <td>0.794422</td>\n",
       "      <td>-0.531971</td>\n",
       "    </tr>\n",
       "    <tr>\n",
       "      <th>99</th>\n",
       "      <td>9.949874</td>\n",
       "      <td>0.811587</td>\n",
       "      <td>-0.527250</td>\n",
       "    </tr>\n",
       "  </tbody>\n",
       "</table>\n",
       "<p>100 rows × 3 columns</p>\n",
       "</div>"
      ],
      "text/plain": [
       "           a         b         c\n",
       "0   0.000000 -0.939889 -0.995579\n",
       "1   1.000000 -0.921638 -0.990838\n",
       "2   1.414214 -0.903399 -0.986097\n",
       "3   1.732051 -0.885172 -0.981357\n",
       "4   2.000000 -0.866957 -0.976616\n",
       "..       ...       ...       ...\n",
       "95  9.746794  0.742866 -0.546133\n",
       "96  9.797959  0.760062 -0.541412\n",
       "97  9.848858  0.777247 -0.536691\n",
       "98  9.899495  0.794422 -0.531971\n",
       "99  9.949874  0.811587 -0.527250\n",
       "\n",
       "[100 rows x 3 columns]"
      ]
     },
     "execution_count": 23,
     "metadata": {},
     "output_type": "execute_result"
    }
   ],
   "source": [
    "sqrt_min_max_normalization(df_nom)"
   ]
  },
  {
   "cell_type": "markdown",
   "metadata": {},
   "source": [
    "<font color='red'> normalization results should be between 0 and 1"
   ]
  },
  {
   "cell_type": "markdown",
   "metadata": {},
   "source": [
    "<font color='green'>Grade: Green"
   ]
  },
  {
   "cell_type": "code",
   "execution_count": null,
   "metadata": {},
   "outputs": [],
   "source": []
  }
 ],
 "metadata": {
  "kernelspec": {
   "display_name": "Python 3 (ipykernel)",
   "language": "python",
   "name": "python3"
  },
  "language_info": {
   "codemirror_mode": {
    "name": "ipython",
    "version": 3
   },
   "file_extension": ".py",
   "mimetype": "text/x-python",
   "name": "python",
   "nbconvert_exporter": "python",
   "pygments_lexer": "ipython3",
   "version": "3.9.7"
  }
 },
 "nbformat": 4,
 "nbformat_minor": 4
}
